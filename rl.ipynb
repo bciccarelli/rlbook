{
 "cells": [
  {
   "cell_type": "code",
   "execution_count": 10,
   "metadata": {},
   "outputs": [
    {
     "name": "stdout",
     "output_type": "stream",
     "text": [
      "3\n",
      "5357\n",
      "450.0\n"
     ]
    }
   ],
   "source": [
    "# K-armed bandit example\n",
    "\n",
    "import numpy as np\n",
    "from random import randint, random\n",
    "\n",
    "# Establish unknown probabilities\n",
    "action_probs = [.3, .2, .6, .7]\n",
    "num_actions = 4\n",
    "actions = [0,1,2,3]\n",
    "# Action value estimates\n",
    "action_values = [0,0,0,0]\n",
    "# Tracking action rewards\n",
    "action_rewards = [0,0,0,0]\n",
    "# Tracking counts of an action \n",
    "action_taken_count = [0,0,0,0]\n",
    "\n",
    "# Probability of taking a non greedy action. Mess with this!\n",
    "e_greedy_probability = .1\n",
    "\n",
    "num_steps = 10000\n",
    "\n",
    "for t in range(num_steps):\n",
    "    best_action = action_values.index(max(action_values))\n",
    "    if t == 0:\n",
    "        action = randint(0,num_actions-1)\n",
    "    else:\n",
    "        action = best_action\n",
    "        # Comment the three lines of code below this out to understand the impact of exploring\n",
    "        if random()<e_greedy_probability:\n",
    "            while action == best_action:\n",
    "                action = randint(0,num_actions-1)\n",
    "\n",
    "    if random()<action_probs[action]:\n",
    "        action_rewards[action] += 1\n",
    "    action_taken_count[action] += 1\n",
    "    action_values[action] = action_rewards[action]/action_taken_count[action]\n",
    "\n",
    "print(action_taken_count.index(max(action_taken_count)))\n",
    "print(sum(action_rewards))\n",
    "print(np.mean(action_probs)*1000)\n"
   ]
  }
 ],
 "metadata": {
  "kernelspec": {
   "display_name": "Python 3",
   "language": "python",
   "name": "python3"
  },
  "language_info": {
   "codemirror_mode": {
    "name": "ipython",
    "version": 3
   },
   "file_extension": ".py",
   "mimetype": "text/x-python",
   "name": "python",
   "nbconvert_exporter": "python",
   "pygments_lexer": "ipython3",
   "version": "3.11.1"
  },
  "orig_nbformat": 4,
  "vscode": {
   "interpreter": {
    "hash": "aee8b7b246df8f9039afb4144a1f6fd8d2ca17a180786b69acc140d282b71a49"
   }
  }
 },
 "nbformat": 4,
 "nbformat_minor": 2
}
